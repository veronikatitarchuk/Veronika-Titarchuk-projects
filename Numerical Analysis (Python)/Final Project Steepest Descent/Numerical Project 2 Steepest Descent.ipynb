{
 "cells": [
  {
   "cell_type": "code",
   "execution_count": 1,
   "id": "5e790f9e",
   "metadata": {},
   "outputs": [],
   "source": [
    "import numpy as np\n",
    "import pylab\n",
    "\n",
    "def f(x):\n",
    "    return (3*x[0]-np.cos(x[1]*x[2])-1/2)**2+(x[0]**2-81*(x[1]+0.1)**2+np.sin(x[2])+1.06)**2+(np.exp(-x[0]*x[1])+20*x[2]+(10*np.pi-3)/3)**2\n",
    "\n",
    "def calculate_gradient_vector(x):\n",
    "    # Partial derivatives of the objective function\n",
    "    df_dx0 = 6*(3*x[0]-np.cos(x[1]*x[2])-1/2)+4*x[0]*(x[0]**2-81*(x[1]+0.1)**2+np.sin(x[2])+1.06)+2*(np.exp(-x[0]*x[1])+20*x[2]+(10*np.pi-3)/3)*np.exp(-x[0]*x[1])*(-x[1])\n",
    "    df_dx1 = 2*(3*x[0]-np.cos(x[1]*x[2])-1/2)*np.sin(x[1]*x[2])*x[2]+2*(x[0]**2-81*(x[1]+0.1)**2+np.sin(x[2])+1.06)*(-192*(x[1]+0.1))+2*(np.exp(-x[0]*x[1])+20*x[2]+(10*np.pi-3)/3)*np.exp(-x[0]*x[1])*(-x[0])\n",
    "    df_dx2 = 2*(3*x[0]-np.cos(x[1]*x[2])-1/2)*np.sin(x[1]*x[2])*x[1]+2*(x[0]**2-81*(x[1]+0.1)**2+np.sin(x[2])+1.06)*np.cos(x[2])+2*(np.exp(-x[0]*x[1])+20*x[2]+(10*np.pi-3)/3)*20\n",
    "    return np.array([df_dx0, df_dx1, df_dx2])"
   ]
  },
  {
   "cell_type": "code",
   "execution_count": 3,
   "id": "9ffd7dac",
   "metadata": {},
   "outputs": [],
   "source": [
    "data_points = np.array([[1, 2], [3, 3], [4, 4], [7, 5]])\n",
    "\n",
    "def f(x):\n",
    "    # Objective function (sum of squares of residuals)\n",
    "    residuals = data_points[:, 1] - (x[0] * data_points[:, 0] + x[1])\n",
    "    return np.sum(residuals**2)\n",
    "\n",
    "def calculate_gradient_vector(x):\n",
    "    df_dx0 = -2 * np.sum((data_points[:, 1] - (x[0] * data_points[:, 0] + x[1])) * data_points[:, 0])\n",
    "    df_dx1 = -2 * np.sum(data_points[:, 1] - (x[0] * data_points[:, 0] + x[1]))\n",
    "    return np.array([df_dx0, df_dx1])"
   ]
  },
  {
   "cell_type": "code",
   "execution_count": 4,
   "id": "ed4c73e5",
   "metadata": {},
   "outputs": [
    {
     "name": "stdout",
     "output_type": "stream",
     "text": [
      "Success\n",
      "Final result: [0.51332189 1.57841551]\n",
      "Final gradient: 0.18754263771431212\n"
     ]
    }
   ],
   "source": [
    "def steepest_descent(n, x, TOL, N):\n",
    "    k = 1\n",
    "    while k <= N:\n",
    "        g1 = f(x)\n",
    "        z = calculate_gradient_vector(x)\n",
    "        z0 = np.linalg.norm(z, 2)\n",
    "        \n",
    "        if z0 == 0:\n",
    "            print(\"Zero gradient\")\n",
    "            return x, g1\n",
    "        \n",
    "        z = z / z0  # Make z a unit vector\n",
    "        alpha3 = 1\n",
    "        g3 = f(x - alpha3 * z)\n",
    "        \n",
    "        while g3 >= g1:\n",
    "            alpha3 = alpha3 / 2\n",
    "            g3 = f(x - alpha3 * z)\n",
    "            \n",
    "            if alpha3 < TOL / 2:\n",
    "                print(\"No likely improvement\")\n",
    "                return x, g1\n",
    "        alpha2 = alpha3 / 2\n",
    "        g2 = f(x - alpha2 * z)\n",
    "        h1 = (g2 - g1) / alpha2\n",
    "        h2 = (g3 - g2) / (alpha3 - alpha2)\n",
    "        h3 = (h2 - h1) / alpha3\n",
    "        alpha0 = 0.5 * (alpha2 - h1 / h3)\n",
    "        g0 = f(x - alpha0 * z)\n",
    "        \n",
    "        if g0 < np.minimum(g1, g3):\n",
    "            alpha = alpha0\n",
    "            g = g0\n",
    "        else:\n",
    "            alpha = alpha3\n",
    "            g = g3\n",
    "        x = x - alpha * z\n",
    "        \n",
    "        if abs(g - g1) < TOL:\n",
    "            print(\"Success\")\n",
    "            return x, g\n",
    "        k += 1\n",
    "    print(\"Maximum iterations exceeded\")\n",
    "    return x, g1\n",
    "\n",
    "# Example usage:\n",
    "n = 2  # Number of variables\n",
    "x_initial = np.array([1, 0])  # Initial approximation\n",
    "tolerance = 0.001  # Adjust the tolerance for higher precision\n",
    "max_iterations = 100  # Maximum number of iterations\n",
    "\n",
    "result, final_gradient = steepest_descent(n, x_initial, tolerance, max_iterations)\n",
    "print(\"Final result:\", result)\n",
    "print(\"Final gradient:\", final_gradient)"
   ]
  },
  {
   "cell_type": "code",
   "execution_count": 38,
   "id": "a05c90ca",
   "metadata": {},
   "outputs": [
    {
     "data": {
      "text/plain": [
       "[<matplotlib.lines.Line2D at 0x17aaf25bc10>,\n",
       " <matplotlib.lines.Line2D at 0x17aaf25bcd0>]"
      ]
     },
     "execution_count": 38,
     "metadata": {},
     "output_type": "execute_result"
    },
    {
     "data": {
      "image/png": "[encoded data removed]",
      "text/plain": [
       "<Figure size 640x480 with 1 Axes>"
      ]
     },
     "metadata": {},
     "output_type": "display_data"
    }
   ],
   "source": [
    "x_values = data_points[:, 0]\n",
    "y_values = data_points[:, 1]\n",
    "line_values = [result[0] * x + result[1] for x in x_values]\n",
    "pylab.plot(x_values, y_values, 'ob', x_values, line_values, 'r')"
   ]
  },
  {
   "cell_type": "code",
   "execution_count": null,
   "id": "3f641f13",
   "metadata": {},
   "outputs": [],
   "source": []
  }
 ],
 "metadata": {
  "kernelspec": {
   "display_name": "Python 3 (ipykernel)",
   "language": "python",
   "name": "python3"
  },
  "language_info": {
   "codemirror_mode": {
    "name": "ipython",
    "version": 3
   },
   "file_extension": ".py",
   "mimetype": "text/x-python",
   "name": "python",
   "nbconvert_exporter": "python",
   "pygments_lexer": "ipython3",
   "version": "3.9.13"
  }
 },
 "nbformat": 4,
 "nbformat_minor": 5
}
