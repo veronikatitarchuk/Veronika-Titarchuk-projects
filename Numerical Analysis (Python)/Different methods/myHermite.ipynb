{
 "cells": [
  {
   "cell_type": "markdown",
   "id": "9d111077",
   "metadata": {},
   "source": [
    "## Hermite Interpolation"
   ]
  },
  {
   "cell_type": "markdown",
   "id": "427d5652",
   "metadata": {},
   "source": [
    "Here we implement Newton Divided Difference formula to compute the Hermite Interpolation. \n",
    "\n",
    "$$\\begin{array}{cccccccc}\n",
    "    z_0 = x_0 & [z_0]f = f(x_0) & \\\\\n",
    "    z_1 = x_0 & [z_1]f = f(x_0) & [z_0, z_1]f = f'(x_0)\\\\\n",
    "    z_2 = x_1 & [z_2]f = f(x_1)& [z_1, z_2]f = \\frac{[z_2]f - [z_1]f}{z_2 - z_1}\\\\\n",
    "    z_3 = x_2 & [z_3]f = f(x_1) & [z_2, z_3]f = f'(x_1)\\\\\n",
    "    \\cdots\n",
    "\\end{array}$$\n",
    "In this table, the zeroth divided difference is in the second column; the first divided difference is in the third column. As you can see, the first divided difference will be replaced by the derivative for even rows. The high order divided difference all can be calculated with a regular formula from now on."
   ]
  },
  {
   "cell_type": "code",
   "execution_count": 2,
   "id": "b0e3bdeb",
   "metadata": {},
   "outputs": [],
   "source": [
    "import numpy as np\n",
    "\n",
    "def myHermiteNewtonDDTable(xn, yn, ypn, n):\n",
    "    F = np.zeros((2*n+2,2*n+2))\n",
    "    for i in range(n+1):\n",
    "        F[2*i,0] = yn[i]\n",
    "        F[2*i + 1, 0] = yn[i]\n",
    "    for i in range(n+1):\n",
    "        F[2*i + 1,1] = ypn[i]\n",
    "    for i in range(1, n+1):\n",
    "        F[2*i, 1] = (yn[i] - yn[i-1])/(xn[i] - xn[i-1])\n",
    "    zn = np.zeros((2*n+2))\n",
    "    for i in range(n+1):\n",
    "        zn[2*i] = xn[i]\n",
    "        zn[2*i + 1] = xn[i]\n",
    "    for i in range(2, 2*n+2):\n",
    "        for j in range(2,i+1):\n",
    "            F[i,j] = (F[i,j-1] - F[i-1,j-1])/(zn[i] - zn[i-j])\n",
    "    return F"
   ]
  },
  {
   "cell_type": "markdown",
   "id": "e435df9c",
   "metadata": {},
   "source": [
    "The Herminte polynomial can be constructed as Newton Divided Difference formular for interpolating polynomial as long as we redefined zn's using xn's. "
   ]
  },
  {
   "cell_type": "code",
   "execution_count": 3,
   "id": "239d29e0",
   "metadata": {},
   "outputs": [],
   "source": [
    "def myHermiteNewtonDD(xn, yn, ypn, n, x):\n",
    "    F = myHermiteNewtonDDTable(xn, yn, ypn, n)\n",
    "    zn = np.zeros((2*n+2))\n",
    "    for i in range(n+1):\n",
    "        zn[2*i] = xn[i]\n",
    "        zn[2*i + 1] = xn[i]  \n",
    "    s = 0\n",
    "    p = 1\n",
    "    for i in range(n+1):\n",
    "        s = s + F[2*i,2*i]*p\n",
    "        p = p*(x - zn[2*i])\n",
    "        s = s + F[2*i+1,2*i+1]*p\n",
    "        p = p*(x - zn[2*i+1])\n",
    "    return s   "
   ]
  },
  {
   "cell_type": "markdown",
   "id": "ad62c437",
   "metadata": {},
   "source": [
    "Below we use the example from the textbook to confirm that our calculation is accurate. "
   ]
  },
  {
   "cell_type": "code",
   "execution_count": 4,
   "id": "4c1f5a7f",
   "metadata": {},
   "outputs": [
    {
     "name": "stdout",
     "output_type": "stream",
     "text": [
      "[[ 0.00000000e+00  0.00000000e+00  0.00000000e+00  0.00000000e+00\n",
      "   0.00000000e+00  0.00000000e+00  0.00000000e+00  0.00000000e+00]\n",
      " [ 0.00000000e+00  7.50000000e+01  0.00000000e+00  0.00000000e+00\n",
      "   0.00000000e+00  0.00000000e+00  0.00000000e+00  0.00000000e+00]\n",
      " [ 3.83000000e+02  7.66000000e+01  3.20000000e-01  0.00000000e+00\n",
      "   0.00000000e+00  0.00000000e+00  0.00000000e+00  0.00000000e+00]\n",
      " [ 3.83000000e+02  8.00000000e+01  6.80000000e-01  7.20000000e-02\n",
      "   0.00000000e+00  0.00000000e+00  0.00000000e+00  0.00000000e+00]\n",
      " [ 6.23000000e+02  8.00000000e+01  0.00000000e+00 -8.50000000e-02\n",
      "  -1.96250000e-02  0.00000000e+00  0.00000000e+00  0.00000000e+00]\n",
      " [ 6.23000000e+02  7.40000000e+01 -2.00000000e+00 -6.66666667e-01\n",
      "  -7.27083333e-02 -6.63541667e-03  0.00000000e+00  0.00000000e+00]\n",
      " [ 9.93000000e+02  7.40000000e+01  0.00000000e+00  2.50000000e-01\n",
      "   1.14583333e-01  1.44070513e-02  1.61865138e-03  0.00000000e+00]\n",
      " [ 9.93000000e+02  7.20000000e+01 -4.00000000e-01 -8.00000000e-02\n",
      "  -4.12500000e-02 -1.94791667e-02 -2.60663215e-03 -3.25021810e-04]]\n"
     ]
    }
   ],
   "source": [
    "xn = [0, 5, 8, 13]\n",
    "yn = [0, 383, 623, 993]\n",
    "ypn = [75, 80, 74, 72]\n",
    "n = 3\n",
    "F = myHermiteNewtonDDTable(xn, yn, ypn, n)\n",
    "print(F)"
   ]
  },
  {
   "cell_type": "code",
   "execution_count": 7,
   "id": "78ee1f7b",
   "metadata": {},
   "outputs": [
    {
     "name": "stdout",
     "output_type": "stream",
     "text": [
      "761.6975847746927\n",
      "68.11697613784418\n"
     ]
    }
   ],
   "source": [
    "x = 10\n",
    "x1 = 10.00001\n",
    "y = myHermiteNewtonDD(xn, yn, ypn, n, x)\n",
    "y1 = myHermiteNewtonDD(xn, yn, ypn, n, x1)\n",
    "\n",
    "m = (y1-y)/0.00001\n",
    "print(y)\n",
    "print(m)"
   ]
  },
  {
   "cell_type": "code",
   "execution_count": null,
   "id": "9d274e54",
   "metadata": {},
   "outputs": [],
   "source": []
  }
 ],
 "metadata": {
  "kernelspec": {
   "display_name": "Python 3 (ipykernel)",
   "language": "python",
   "name": "python3"
  },
  "language_info": {
   "codemirror_mode": {
    "name": "ipython",
    "version": 3
   },
   "file_extension": ".py",
   "mimetype": "text/x-python",
   "name": "python",
   "nbconvert_exporter": "python",
   "pygments_lexer": "ipython3",
   "version": "3.9.13"
  }
 },
 "nbformat": 4,
 "nbformat_minor": 5
}
