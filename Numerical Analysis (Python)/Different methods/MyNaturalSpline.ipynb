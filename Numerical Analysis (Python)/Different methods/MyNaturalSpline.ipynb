{
 "cells": [
  {
   "cell_type": "markdown",
   "id": "48afddd0",
   "metadata": {},
   "source": [
    "We will implement Algorithm 3.4"
   ]
  },
  {
   "cell_type": "code",
   "execution_count": 6,
   "id": "e32c25bd",
   "metadata": {},
   "outputs": [],
   "source": [
    "import numpy as np\n",
    "\n",
    "def MyNaturalCubicSpline(xn, yn, n):\n",
    "    b = d = h = alpha = np.zeros(n)\n",
    "    a = c = l = mu = z = np.zeros(n+1)\n",
    "    for i in range(n+1):\n",
    "        a[i] = yn[i]\n",
    "    for i in range(n):\n",
    "        h[i] = xn[i+1]-xn[i]\n",
    "    for i in range (1,n):\n",
    "        alpha[i] = (3/h[i])*(a[i+1]-a[i])-(3/h[i-1])*(a[i]-a[i-1])\n",
    "    l[0] = 1\n",
    "    mu[0] = 0\n",
    "    z[0] = 0\n",
    "    for i in range(1,n):\n",
    "        l[i] = 2*(xn[i+1]-xn[i-1])-h[i-1]*mu[i-1]\n",
    "        mu[i] = h[i]/l[i]\n",
    "        z[i] = (alpha[i]-h[i-1]*z[i-1])/l[i]\n",
    "    l[n] = 1\n",
    "    z[n] = 0\n",
    "    c[n] = 0\n",
    "    for j in range(n-1, -1, -1):\n",
    "        c[j] = z[j] - mu[j]*c[j+1]\n",
    "        b[j] = (a[j+1] - a[j])/h[j] - h[j]*(c[j+1] + 2*c[j])/3\n",
    "        d[j] = (c[j+1]-c[j])/(3*h[j])\n",
    "    return a, b, c, d"
   ]
  },
  {
   "cell_type": "code",
   "execution_count": 7,
   "id": "9467ba4a",
   "metadata": {},
   "outputs": [
    {
     "name": "stdout",
     "output_type": "stream",
     "text": [
      "[ 0.          7.71074805 -0.92768701  0.        ]\n",
      "[0.5        0.06578938 0.01368043]\n",
      "[ 0.          7.71074805 -0.92768701  0.        ]\n",
      "[0.5        0.06578938 0.01368043]\n"
     ]
    }
   ],
   "source": [
    "e = np.exp(1)\n",
    "xn = [0,1,2,3]\n",
    "yn=[1,e, e**2, e**3]\n",
    "n = 3\n",
    "a, b, c, d = MyNaturalCubicSpline(xn, yn, n)\n",
    "print(a)\n",
    "print(b)\n",
    "print(c)\n",
    "print(d)"
   ]
  },
  {
   "cell_type": "code",
   "execution_count": null,
   "id": "15d32ec7",
   "metadata": {},
   "outputs": [],
   "source": []
  }
 ],
 "metadata": {
  "kernelspec": {
   "display_name": "Python 3 (ipykernel)",
   "language": "python",
   "name": "python3"
  },
  "language_info": {
   "codemirror_mode": {
    "name": "ipython",
    "version": 3
   },
   "file_extension": ".py",
   "mimetype": "text/x-python",
   "name": "python",
   "nbconvert_exporter": "python",
   "pygments_lexer": "ipython3",
   "version": "3.9.13"
  }
 },
 "nbformat": 4,
 "nbformat_minor": 5
}
